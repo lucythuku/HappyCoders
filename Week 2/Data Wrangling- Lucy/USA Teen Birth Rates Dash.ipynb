{
 "cells": [
  {
   "cell_type": "code",
   "execution_count": 28,
   "id": "e793ed0e",
   "metadata": {},
   "outputs": [
    {
     "name": "stdout",
     "output_type": "stream",
     "text": [
      "Requirement already satisfied: dash_html_components in /Users/lucythuku/opt/anaconda3/lib/python3.8/site-packages (2.0.0)\n",
      "Note: you may need to restart the kernel to use updated packages.\n"
     ]
    }
   ],
   "source": [
    "pip install dash_html_components"
   ]
  },
  {
   "cell_type": "code",
   "execution_count": null,
   "id": "9d59074e",
   "metadata": {},
   "outputs": [],
   "source": [
    "import pandas as pd\n",
    "import plotly.express as px\n",
    "import dash\n",
    "import dash_core_components as dcc\n",
    "import dash_html_components as html\n",
    "from dash.dependencies import Input,Output\n",
    "from app import app\n"
   ]
  },
  {
   "cell_type": "code",
   "execution_count": null,
   "id": "f12e226a",
   "metadata": {},
   "outputs": [],
   "source": [
    "app = dash.Dash(__name__)\n"
   ]
  },
  {
   "cell_type": "code",
   "execution_count": null,
   "id": "d9cadee7",
   "metadata": {},
   "outputs": [],
   "source": [
    "df = pd.read_csv(\"Teen rates by state.csv\")\n",
    "df = df.groupby(['STATE','YEAR'])[['RATE']].mean()\n",
    "df.reset_index(inplace=True)  \n",
    "print(df[:5])"
   ]
  },
  {
   "cell_type": "code",
   "execution_count": null,
   "id": "718498f5",
   "metadata": {},
   "outputs": [],
   "source": [
    "TeenBirthRates = df[df.YEAR != 2005]"
   ]
  },
  {
   "cell_type": "code",
   "execution_count": null,
   "id": "90605e90",
   "metadata": {},
   "outputs": [],
   "source": [
    "print(TeenBirthRates[:5])"
   ]
  },
  {
   "cell_type": "code",
   "execution_count": null,
   "id": "60c8524f",
   "metadata": {},
   "outputs": [],
   "source": [
    "app.layout = html.Div([\n",
    "    html.H1(\"Teen Birth Rates in USA\", style ={'text-align': 'center'}),\n",
    "    \n",
    "    dcc.Dropdown(id =\"slct_year\",\n",
    "                options =[\n",
    "                    {\"label\": \"2014\", \"value\": 2014},\n",
    "                    {\"label\": \"2015\", \"value\": 2015},\n",
    "                    {\"label\": \"2016\", \"value\": 2016},\n",
    "                    {\"label\": \"2017\", \"value\": 2017},\n",
    "                    {\"label\": \"2018\", \"value\": 2018},\n",
    "                    {\"label\": \"2019\", \"value\": 2019},\n",
    "                    {\"label\": \"2020\", \"value\": 2020}],\n",
    "                 multi = False,\n",
    "                 value = 2014,\n",
    "                 style = {'width': \"40%\"}\n",
    "                ),\n",
    "    html.Div(id='output_container', children = []),\n",
    "    html.Br(),\n",
    "    \n",
    "    dcc.Graph(id='My state map', figure={})\n",
    "                \n",
    "])\n",
    "\n",
    "@app.callback(\n",
    "    [Output(component_id='output_container', component_property='children'),\n",
    "     Output(component_id='My state map', component_property='figure')],\n",
    "    [Input(component_id='slct_year', component_property='value')]\n",
    ")\n",
    "def update_graph(option_slctd):\n",
    "    print(option_slctd)\n",
    "    print(type(option_slctd))\n",
    "\n",
    "    container = \"The year chosen by user was: {}\".format(option_slctd)\n",
    "\n",
    "    dff = TeenBirthRates.copy()\n",
    "    dff = dff[dff[\"YEAR\"] == option_slctd]\n",
    "    dff = dff[dff[\"STATE\"] == \"TX\"]\n",
    "\n",
    "    # Plotly Express\n",
    "    fig = px.choropleth(\n",
    "        data_frame=dff,\n",
    "        locationmode='USA-states',\n",
    "        locations='state_code',\n",
    "        scope=\"usa\",\n",
    "        color='STATE',\n",
    "        hover_data=['State', 'RATES'],\n",
    "        color_continuous_scale=px.colors.sequential.YlOrRd,\n",
    "        labels={'Pct of Colonies Impacted': '% of Bee Colonies'},\n",
    "        template='plotly_dark'\n",
    "    )\n",
    "\n",
    "    return container,fig\n"
   ]
  },
  {
   "cell_type": "code",
   "execution_count": null,
   "id": "b06cedee",
   "metadata": {},
   "outputs": [],
   "source": [
    "if __name__ == '__main__':\n",
    "    app.run_server(\n",
    "    port=8050,\n",
    "    host='0.0.0.0'\n",
    "    )"
   ]
  },
  {
   "cell_type": "code",
   "execution_count": null,
   "id": "20eb616c",
   "metadata": {},
   "outputs": [],
   "source": []
  }
 ],
 "metadata": {
  "kernelspec": {
   "display_name": "Python 3",
   "language": "python",
   "name": "python3"
  },
  "language_info": {
   "codemirror_mode": {
    "name": "ipython",
    "version": 3
   },
   "file_extension": ".py",
   "mimetype": "text/x-python",
   "name": "python",
   "nbconvert_exporter": "python",
   "pygments_lexer": "ipython3",
   "version": "3.8.8"
  }
 },
 "nbformat": 4,
 "nbformat_minor": 5
}
